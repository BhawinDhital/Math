{
 "cells": [
  {
   "cell_type": "markdown",
   "metadata": {},
   "source": [
    "### Algebra : Transpose, dot, linalg"
   ]
  },
  {
   "cell_type": "markdown",
   "metadata": {},
   "source": [
    "For more information about algebra library: go to [Algebra](https://docs.scipy.org/doc/numpy-1.13.0/reference/routines.linalg.html)"
   ]
  },
  {
   "cell_type": "code",
   "execution_count": 1,
   "metadata": {},
   "outputs": [],
   "source": [
    "import numpy as np\n",
    "import seaborn as sns\n",
    "import matplotlib.pyplot as plt\n",
    "%matplotlib inline\n",
    "sns.set()"
   ]
  },
  {
   "cell_type": "markdown",
   "metadata": {},
   "source": [
    "### Dot product"
   ]
  },
  {
   "cell_type": "code",
   "execution_count": 2,
   "metadata": {},
   "outputs": [
    {
     "data": {
      "text/plain": [
       "array([0.96030526, 0.63937101, 0.60716121, 0.77158723, 0.05119545])"
      ]
     },
     "execution_count": 2,
     "metadata": {},
     "output_type": "execute_result"
    }
   ],
   "source": [
    "v = np.random.rand(5)\n",
    "v"
   ]
  },
  {
   "cell_type": "code",
   "execution_count": 3,
   "metadata": {},
   "outputs": [
    {
     "data": {
      "text/plain": [
       "array([[0.46298181, 0.36803508, 0.17555711, 0.29809828, 0.90586254],\n",
       "       [0.63840829, 0.12800313, 0.64480609, 0.94194382, 0.33163307],\n",
       "       [0.6963452 , 0.83196084, 0.81715831, 0.53484729, 0.72740214],\n",
       "       [0.96722906, 0.64386015, 0.04274068, 0.72458236, 0.33739328],\n",
       "       [0.83605469, 0.72790326, 0.41076701, 0.42721808, 0.40001866]])"
      ]
     },
     "execution_count": 3,
     "metadata": {},
     "output_type": "execute_result"
    }
   ],
   "source": [
    "B = np.random.rand(5,5)\n",
    "B"
   ]
  },
  {
   "cell_type": "code",
   "execution_count": 4,
   "metadata": {},
   "outputs": [
    {
     "data": {
      "text/plain": [
       "array([1.06289116, 1.83017951, 2.14670345, 1.94280265, 1.8677849 ])"
      ]
     },
     "execution_count": 4,
     "metadata": {},
     "output_type": "execute_result"
    }
   ],
   "source": [
    "u = np.dot(B,v)\n",
    "u"
   ]
  },
  {
   "cell_type": "code",
   "execution_count": 5,
   "metadata": {},
   "outputs": [
    {
     "data": {
      "text/plain": [
       "array([2.06468121, 1.47446147, 1.13101313, 1.79420557, 1.80439898])"
      ]
     },
     "execution_count": 5,
     "metadata": {},
     "output_type": "execute_result"
    }
   ],
   "source": [
    "u = np.dot(v,B)\n",
    "u"
   ]
  },
  {
   "cell_type": "markdown",
   "metadata": {},
   "source": [
    "### Transpose of a matrix"
   ]
  },
  {
   "cell_type": "code",
   "execution_count": 7,
   "metadata": {},
   "outputs": [
    {
     "data": {
      "text/plain": [
       "<matplotlib.axes._subplots.AxesSubplot at 0x1a1da67b10>"
      ]
     },
     "execution_count": 7,
     "metadata": {},
     "output_type": "execute_result"
    },
    {
     "data": {
      "image/png": "[encoded data removed]",
      "text/plain": [
       "<Figure size 1080x432 with 4 Axes>"
      ]
     },
     "metadata": {
      "needs_background": "light"
     },
     "output_type": "display_data"
    }
   ],
   "source": [
    "plt.figure(figsize = [15,6])\n",
    "plt.subplot(1,2,1)\n",
    "sns.heatmap(B, annot=True)\n",
    "plt.subplot(1,2,2)\n",
    "sns.heatmap(B.T, annot=True)"
   ]
  },
  {
   "cell_type": "code",
   "execution_count": 9,
   "metadata": {},
   "outputs": [
    {
     "data": {
      "text/plain": [
       "array([ 0.21537101, -1.89528307,  1.22568514,  0.67570155,  0.12428143])"
      ]
     },
     "execution_count": 9,
     "metadata": {},
     "output_type": "execute_result"
    }
   ],
   "source": [
    "# Solving for a matrix\n",
    "import numpy.linalg as VA\n",
    "M = np.random.rand(5,5)\n",
    "v = np.random.rand(5)\n",
    "VA.solve(M, v)"
   ]
  },
  {
   "cell_type": "markdown",
   "metadata": {},
   "source": [
    "### Inverse of a matrix"
   ]
  },
  {
   "cell_type": "code",
   "execution_count": 10,
   "metadata": {},
   "outputs": [
    {
     "data": {
      "text/plain": [
       "array([[ 1.00000000e+00,  2.22044605e-16,  3.33066907e-16,\n",
       "         2.22044605e-16,  1.11022302e-16],\n",
       "       [-1.11022302e-16,  1.00000000e+00,  3.33066907e-16,\n",
       "         0.00000000e+00, -8.32667268e-16],\n",
       "       [-2.22044605e-16, -2.77555756e-16,  1.00000000e+00,\n",
       "         1.11022302e-16,  2.77555756e-16],\n",
       "       [ 0.00000000e+00, -2.22044605e-16, -2.22044605e-16,\n",
       "         1.00000000e+00,  1.11022302e-16],\n",
       "       [ 1.11022302e-16,  1.11022302e-16,  1.11022302e-16,\n",
       "         2.22044605e-16,  1.00000000e+00]])"
      ]
     },
     "execution_count": 10,
     "metadata": {},
     "output_type": "execute_result"
    }
   ],
   "source": [
    "MI = VA.inv(M)\n",
    "np.dot(MI,M)"
   ]
  },
  {
   "cell_type": "markdown",
   "metadata": {},
   "source": [
    "### Determinant"
   ]
  },
  {
   "cell_type": "code",
   "execution_count": 11,
   "metadata": {},
   "outputs": [
    {
     "data": {
      "text/plain": [
       "-0.07116615194810012"
      ]
     },
     "execution_count": 11,
     "metadata": {},
     "output_type": "execute_result"
    }
   ],
   "source": [
    "VA.det(M)"
   ]
  },
  {
   "cell_type": "markdown",
   "metadata": {},
   "source": [
    "### Singular value decomposition"
   ]
  },
  {
   "cell_type": "code",
   "execution_count": 13,
   "metadata": {},
   "outputs": [
    {
     "data": {
      "text/plain": [
       "array([[-0.45996005, -0.82986508, -0.02672968,  0.1996035 , -0.24332011],\n",
       "       [-0.36795731, -0.04457848,  0.2120865 ,  0.091743  ,  0.89956807],\n",
       "       [-0.52936057,  0.36930076,  0.6758428 , -0.0265273 , -0.35486215],\n",
       "       [-0.36923391,  0.40031647, -0.52159623,  0.65250338, -0.07476468],\n",
       "       [-0.4863002 ,  0.11269598, -0.474846  , -0.72476017, -0.00746336]])"
      ]
     },
     "execution_count": 13,
     "metadata": {},
     "output_type": "execute_result"
    }
   ],
   "source": [
    "U,s,v = VA.svd(M)\n",
    "U"
   ]
  },
  {
   "cell_type": "code",
   "execution_count": 14,
   "metadata": {},
   "outputs": [
    {
     "data": {
      "text/plain": [
       "array([2.40383778, 1.00090697, 0.67992525, 0.29393041, 0.14800246])"
      ]
     },
     "execution_count": 14,
     "metadata": {},
     "output_type": "execute_result"
    }
   ],
   "source": [
    "s"
   ]
  },
  {
   "cell_type": "code",
   "execution_count": 15,
   "metadata": {},
   "outputs": [
    {
     "data": {
      "text/plain": [
       "array([[-0.40043351, -0.33235978, -0.37985011, -0.53672652, -0.54481971],\n",
       "       [ 0.19248405, -0.22889554, -0.63014703,  0.67838181, -0.230802  ],\n",
       "       [-0.51075569, -0.23671828, -0.34085326,  0.00459435,  0.75292167],\n",
       "       [ 0.7055819 , -0.51152102, -0.12037563, -0.39420479,  0.26573054],\n",
       "       [ 0.20948915,  0.72073193, -0.57267563, -0.31032926,  0.11134704]])"
      ]
     },
     "execution_count": 15,
     "metadata": {},
     "output_type": "execute_result"
    }
   ],
   "source": [
    "v"
   ]
  },
  {
   "cell_type": "code",
   "execution_count": null,
   "metadata": {},
   "outputs": [],
   "source": []
  }
 ],
 "metadata": {
  "kernelspec": {
   "display_name": "Python 3",
   "language": "python",
   "name": "python3"
  },
  "language_info": {
   "codemirror_mode": {
    "name": "ipython",
    "version": 3
   },
   "file_extension": ".py",
   "mimetype": "text/x-python",
   "name": "python",
   "nbconvert_exporter": "python",
   "pygments_lexer": "ipython3",
   "version": "3.7.4"
  }
 },
 "nbformat": 4,
 "nbformat_minor": 2
}
